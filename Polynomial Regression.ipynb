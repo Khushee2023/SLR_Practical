{
 "cells": [
  {
   "cell_type": "code",
   "execution_count": 11,
   "id": "fed2fdff-7b7d-4cd4-b4f5-57140f50da81",
   "metadata": {},
   "outputs": [],
   "source": [
    "# import libraries\n",
    "import numpy as np\n",
    "import pandas as pd\n",
    "import matplotlib.pyplot as plt\n",
    "%matplotlib inline"
   ]
  },
  {
   "cell_type": "code",
   "execution_count": 17,
   "id": "168c797b-73ba-4f3f-b1f2-789aa93779c9",
   "metadata": {},
   "outputs": [
    {
     "data": {
      "text/plain": [
       "Text(0, 0.5, 'Y dataset')"
      ]
     },
     "execution_count": 17,
     "metadata": {},
     "output_type": "execute_result"
    },
    {
     "data": {
      "image/png": "[encoded data removed]",
      "text/plain": [
       "<Figure size 640x480 with 1 Axes>"
      ]
     },
     "metadata": {},
     "output_type": "display_data"
    }
   ],
   "source": [
    "X = 6 * np.random.rand(100,1)-3\n",
    "Y = 0.5 * X**2 + 1.5*X + np.random.randn(100,1)\n",
    "plt.scatter(X,Y,color='g')\n",
    "plt.xlabel('X dataset')\n",
    "plt.ylabel('Y dataset')"
   ]
  },
  {
   "cell_type": "code",
   "execution_count": 21,
   "id": "1b673da7-e64b-4f59-89ac-de060b7356eb",
   "metadata": {},
   "outputs": [],
   "source": [
    "from sklearn.model_selection import train_test_split\n",
    "X_train,X_test,Y_train,Y_test=train_test_split(X,Y,test_size=0.2,random_state=42)"
   ]
  },
  {
   "cell_type": "code",
   "execution_count": 23,
   "id": "ffdd533f-0f5a-4328-bc03-aa9b6a2dba28",
   "metadata": {},
   "outputs": [],
   "source": [
    "# Let's implement Simple Linear Regression\n",
    "from sklearn.linear_model import LinearRegression\n",
    "regression_1=LinearRegression()"
   ]
  },
  {
   "cell_type": "code",
   "execution_count": 27,
   "id": "58e25fdf-db2b-4633-ad71-104a1f1a6a74",
   "metadata": {},
   "outputs": [
    {
     "data": {
      "text/html": [
       "<style>#sk-container-id-1 {\n",
       "  /* Definition of color scheme common for light and dark mode */\n",
       "  --sklearn-color-text: black;\n",
       "  --sklearn-color-line: gray;\n",
       "  /* Definition of color scheme for unfitted estimators */\n",
       "  --sklearn-color-unfitted-level-0: #fff5e6;\n",
       "  --sklearn-color-unfitted-level-1: #f6e4d2;\n",
       "  --sklearn-color-unfitted-level-2: #ffe0b3;\n",
       "  --sklearn-color-unfitted-level-3: chocolate;\n",
       "  /* Definition of color scheme for fitted estimators */\n",
       "  --sklearn-color-fitted-level-0: #f0f8ff;\n",
       "  --sklearn-color-fitted-level-1: #d4ebff;\n",
       "  --sklearn-color-fitted-level-2: #b3dbfd;\n",
       "  --sklearn-color-fitted-level-3: cornflowerblue;\n",
       "\n",
       "  /* Specific color for light theme */\n",
       "  --sklearn-color-text-on-default-background: var(--sg-text-color, var(--theme-code-foreground, var(--jp-content-font-color1, black)));\n",
       "  --sklearn-color-background: var(--sg-background-color, var(--theme-background, var(--jp-layout-color0, white)));\n",
       "  --sklearn-color-border-box: var(--sg-text-color, var(--theme-code-foreground, var(--jp-content-font-color1, black)));\n",
       "  --sklearn-color-icon: #696969;\n",
       "\n",
       "  @media (prefers-color-scheme: dark) {\n",
       "    /* Redefinition of color scheme for dark theme */\n",
       "    --sklearn-color-text-on-default-background: var(--sg-text-color, var(--theme-code-foreground, var(--jp-content-font-color1, white)));\n",
       "    --sklearn-color-background: var(--sg-background-color, var(--theme-background, var(--jp-layout-color0, #111)));\n",
       "    --sklearn-color-border-box: var(--sg-text-color, var(--theme-code-foreground, var(--jp-content-font-color1, white)));\n",
       "    --sklearn-color-icon: #878787;\n",
       "  }\n",
       "}\n",
       "\n",
       "#sk-container-id-1 {\n",
       "  color: var(--sklearn-color-text);\n",
       "}\n",
       "\n",
       "#sk-container-id-1 pre {\n",
       "  padding: 0;\n",
       "}\n",
       "\n",
       "#sk-container-id-1 input.sk-hidden--visually {\n",
       "  border: 0;\n",
       "  clip: rect(1px 1px 1px 1px);\n",
       "  clip: rect(1px, 1px, 1px, 1px);\n",
       "  height: 1px;\n",
       "  margin: -1px;\n",
       "  overflow: hidden;\n",
       "  padding: 0;\n",
       "  position: absolute;\n",
       "  width: 1px;\n",
       "}\n",
       "\n",
       "#sk-container-id-1 div.sk-dashed-wrapped {\n",
       "  border: 1px dashed var(--sklearn-color-line);\n",
       "  margin: 0 0.4em 0.5em 0.4em;\n",
       "  box-sizing: border-box;\n",
       "  padding-bottom: 0.4em;\n",
       "  background-color: var(--sklearn-color-background);\n",
       "}\n",
       "\n",
       "#sk-container-id-1 div.sk-container {\n",
       "  /* jupyter's `normalize.less` sets `[hidden] { display: none; }`\n",
       "     but bootstrap.min.css set `[hidden] { display: none !important; }`\n",
       "     so we also need the `!important` here to be able to override the\n",
       "     default hidden behavior on the sphinx rendered scikit-learn.org.\n",
       "     See: https://github.com/scikit-learn/scikit-learn/issues/21755 */\n",
       "  display: inline-block !important;\n",
       "  position: relative;\n",
       "}\n",
       "\n",
       "#sk-container-id-1 div.sk-text-repr-fallback {\n",
       "  display: none;\n",
       "}\n",
       "\n",
       "div.sk-parallel-item,\n",
       "div.sk-serial,\n",
       "div.sk-item {\n",
       "  /* draw centered vertical line to link estimators */\n",
       "  background-image: linear-gradient(var(--sklearn-color-text-on-default-background), var(--sklearn-color-text-on-default-background));\n",
       "  background-size: 2px 100%;\n",
       "  background-repeat: no-repeat;\n",
       "  background-position: center center;\n",
       "}\n",
       "\n",
       "/* Parallel-specific style estimator block */\n",
       "\n",
       "#sk-container-id-1 div.sk-parallel-item::after {\n",
       "  content: \"\";\n",
       "  width: 100%;\n",
       "  border-bottom: 2px solid var(--sklearn-color-text-on-default-background);\n",
       "  flex-grow: 1;\n",
       "}\n",
       "\n",
       "#sk-container-id-1 div.sk-parallel {\n",
       "  display: flex;\n",
       "  align-items: stretch;\n",
       "  justify-content: center;\n",
       "  background-color: var(--sklearn-color-background);\n",
       "  position: relative;\n",
       "}\n",
       "\n",
       "#sk-container-id-1 div.sk-parallel-item {\n",
       "  display: flex;\n",
       "  flex-direction: column;\n",
       "}\n",
       "\n",
       "#sk-container-id-1 div.sk-parallel-item:first-child::after {\n",
       "  align-self: flex-end;\n",
       "  width: 50%;\n",
       "}\n",
       "\n",
       "#sk-container-id-1 div.sk-parallel-item:last-child::after {\n",
       "  align-self: flex-start;\n",
       "  width: 50%;\n",
       "}\n",
       "\n",
       "#sk-container-id-1 div.sk-parallel-item:only-child::after {\n",
       "  width: 0;\n",
       "}\n",
       "\n",
       "/* Serial-specific style estimator block */\n",
       "\n",
       "#sk-container-id-1 div.sk-serial {\n",
       "  display: flex;\n",
       "  flex-direction: column;\n",
       "  align-items: center;\n",
       "  background-color: var(--sklearn-color-background);\n",
       "  padding-right: 1em;\n",
       "  padding-left: 1em;\n",
       "}\n",
       "\n",
       "\n",
       "/* Toggleable style: style used for estimator/Pipeline/ColumnTransformer box that is\n",
       "clickable and can be expanded/collapsed.\n",
       "- Pipeline and ColumnTransformer use this feature and define the default style\n",
       "- Estimators will overwrite some part of the style using the `sk-estimator` class\n",
       "*/\n",
       "\n",
       "/* Pipeline and ColumnTransformer style (default) */\n",
       "\n",
       "#sk-container-id-1 div.sk-toggleable {\n",
       "  /* Default theme specific background. It is overwritten whether we have a\n",
       "  specific estimator or a Pipeline/ColumnTransformer */\n",
       "  background-color: var(--sklearn-color-background);\n",
       "}\n",
       "\n",
       "/* Toggleable label */\n",
       "#sk-container-id-1 label.sk-toggleable__label {\n",
       "  cursor: pointer;\n",
       "  display: block;\n",
       "  width: 100%;\n",
       "  margin-bottom: 0;\n",
       "  padding: 0.5em;\n",
       "  box-sizing: border-box;\n",
       "  text-align: center;\n",
       "}\n",
       "\n",
       "#sk-container-id-1 label.sk-toggleable__label-arrow:before {\n",
       "  /* Arrow on the left of the label */\n",
       "  content: \"▸\";\n",
       "  float: left;\n",
       "  margin-right: 0.25em;\n",
       "  color: var(--sklearn-color-icon);\n",
       "}\n",
       "\n",
       "#sk-container-id-1 label.sk-toggleable__label-arrow:hover:before {\n",
       "  color: var(--sklearn-color-text);\n",
       "}\n",
       "\n",
       "/* Toggleable content - dropdown */\n",
       "\n",
       "#sk-container-id-1 div.sk-toggleable__content {\n",
       "  max-height: 0;\n",
       "  max-width: 0;\n",
       "  overflow: hidden;\n",
       "  text-align: left;\n",
       "  /* unfitted */\n",
       "  background-color: var(--sklearn-color-unfitted-level-0);\n",
       "}\n",
       "\n",
       "#sk-container-id-1 div.sk-toggleable__content.fitted {\n",
       "  /* fitted */\n",
       "  background-color: var(--sklearn-color-fitted-level-0);\n",
       "}\n",
       "\n",
       "#sk-container-id-1 div.sk-toggleable__content pre {\n",
       "  margin: 0.2em;\n",
       "  border-radius: 0.25em;\n",
       "  color: var(--sklearn-color-text);\n",
       "  /* unfitted */\n",
       "  background-color: var(--sklearn-color-unfitted-level-0);\n",
       "}\n",
       "\n",
       "#sk-container-id-1 div.sk-toggleable__content.fitted pre {\n",
       "  /* unfitted */\n",
       "  background-color: var(--sklearn-color-fitted-level-0);\n",
       "}\n",
       "\n",
       "#sk-container-id-1 input.sk-toggleable__control:checked~div.sk-toggleable__content {\n",
       "  /* Expand drop-down */\n",
       "  max-height: 200px;\n",
       "  max-width: 100%;\n",
       "  overflow: auto;\n",
       "}\n",
       "\n",
       "#sk-container-id-1 input.sk-toggleable__control:checked~label.sk-toggleable__label-arrow:before {\n",
       "  content: \"▾\";\n",
       "}\n",
       "\n",
       "/* Pipeline/ColumnTransformer-specific style */\n",
       "\n",
       "#sk-container-id-1 div.sk-label input.sk-toggleable__control:checked~label.sk-toggleable__label {\n",
       "  color: var(--sklearn-color-text);\n",
       "  background-color: var(--sklearn-color-unfitted-level-2);\n",
       "}\n",
       "\n",
       "#sk-container-id-1 div.sk-label.fitted input.sk-toggleable__control:checked~label.sk-toggleable__label {\n",
       "  background-color: var(--sklearn-color-fitted-level-2);\n",
       "}\n",
       "\n",
       "/* Estimator-specific style */\n",
       "\n",
       "/* Colorize estimator box */\n",
       "#sk-container-id-1 div.sk-estimator input.sk-toggleable__control:checked~label.sk-toggleable__label {\n",
       "  /* unfitted */\n",
       "  background-color: var(--sklearn-color-unfitted-level-2);\n",
       "}\n",
       "\n",
       "#sk-container-id-1 div.sk-estimator.fitted input.sk-toggleable__control:checked~label.sk-toggleable__label {\n",
       "  /* fitted */\n",
       "  background-color: var(--sklearn-color-fitted-level-2);\n",
       "}\n",
       "\n",
       "#sk-container-id-1 div.sk-label label.sk-toggleable__label,\n",
       "#sk-container-id-1 div.sk-label label {\n",
       "  /* The background is the default theme color */\n",
       "  color: var(--sklearn-color-text-on-default-background);\n",
       "}\n",
       "\n",
       "/* On hover, darken the color of the background */\n",
       "#sk-container-id-1 div.sk-label:hover label.sk-toggleable__label {\n",
       "  color: var(--sklearn-color-text);\n",
       "  background-color: var(--sklearn-color-unfitted-level-2);\n",
       "}\n",
       "\n",
       "/* Label box, darken color on hover, fitted */\n",
       "#sk-container-id-1 div.sk-label.fitted:hover label.sk-toggleable__label.fitted {\n",
       "  color: var(--sklearn-color-text);\n",
       "  background-color: var(--sklearn-color-fitted-level-2);\n",
       "}\n",
       "\n",
       "/* Estimator label */\n",
       "\n",
       "#sk-container-id-1 div.sk-label label {\n",
       "  font-family: monospace;\n",
       "  font-weight: bold;\n",
       "  display: inline-block;\n",
       "  line-height: 1.2em;\n",
       "}\n",
       "\n",
       "#sk-container-id-1 div.sk-label-container {\n",
       "  text-align: center;\n",
       "}\n",
       "\n",
       "/* Estimator-specific */\n",
       "#sk-container-id-1 div.sk-estimator {\n",
       "  font-family: monospace;\n",
       "  border: 1px dotted var(--sklearn-color-border-box);\n",
       "  border-radius: 0.25em;\n",
       "  box-sizing: border-box;\n",
       "  margin-bottom: 0.5em;\n",
       "  /* unfitted */\n",
       "  background-color: var(--sklearn-color-unfitted-level-0);\n",
       "}\n",
       "\n",
       "#sk-container-id-1 div.sk-estimator.fitted {\n",
       "  /* fitted */\n",
       "  background-color: var(--sklearn-color-fitted-level-0);\n",
       "}\n",
       "\n",
       "/* on hover */\n",
       "#sk-container-id-1 div.sk-estimator:hover {\n",
       "  /* unfitted */\n",
       "  background-color: var(--sklearn-color-unfitted-level-2);\n",
       "}\n",
       "\n",
       "#sk-container-id-1 div.sk-estimator.fitted:hover {\n",
       "  /* fitted */\n",
       "  background-color: var(--sklearn-color-fitted-level-2);\n",
       "}\n",
       "\n",
       "/* Specification for estimator info (e.g. \"i\" and \"?\") */\n",
       "\n",
       "/* Common style for \"i\" and \"?\" */\n",
       "\n",
       ".sk-estimator-doc-link,\n",
       "a:link.sk-estimator-doc-link,\n",
       "a:visited.sk-estimator-doc-link {\n",
       "  float: right;\n",
       "  font-size: smaller;\n",
       "  line-height: 1em;\n",
       "  font-family: monospace;\n",
       "  background-color: var(--sklearn-color-background);\n",
       "  border-radius: 1em;\n",
       "  height: 1em;\n",
       "  width: 1em;\n",
       "  text-decoration: none !important;\n",
       "  margin-left: 1ex;\n",
       "  /* unfitted */\n",
       "  border: var(--sklearn-color-unfitted-level-1) 1pt solid;\n",
       "  color: var(--sklearn-color-unfitted-level-1);\n",
       "}\n",
       "\n",
       ".sk-estimator-doc-link.fitted,\n",
       "a:link.sk-estimator-doc-link.fitted,\n",
       "a:visited.sk-estimator-doc-link.fitted {\n",
       "  /* fitted */\n",
       "  border: var(--sklearn-color-fitted-level-1) 1pt solid;\n",
       "  color: var(--sklearn-color-fitted-level-1);\n",
       "}\n",
       "\n",
       "/* On hover */\n",
       "div.sk-estimator:hover .sk-estimator-doc-link:hover,\n",
       ".sk-estimator-doc-link:hover,\n",
       "div.sk-label-container:hover .sk-estimator-doc-link:hover,\n",
       ".sk-estimator-doc-link:hover {\n",
       "  /* unfitted */\n",
       "  background-color: var(--sklearn-color-unfitted-level-3);\n",
       "  color: var(--sklearn-color-background);\n",
       "  text-decoration: none;\n",
       "}\n",
       "\n",
       "div.sk-estimator.fitted:hover .sk-estimator-doc-link.fitted:hover,\n",
       ".sk-estimator-doc-link.fitted:hover,\n",
       "div.sk-label-container:hover .sk-estimator-doc-link.fitted:hover,\n",
       ".sk-estimator-doc-link.fitted:hover {\n",
       "  /* fitted */\n",
       "  background-color: var(--sklearn-color-fitted-level-3);\n",
       "  color: var(--sklearn-color-background);\n",
       "  text-decoration: none;\n",
       "}\n",
       "\n",
       "/* Span, style for the box shown on hovering the info icon */\n",
       ".sk-estimator-doc-link span {\n",
       "  display: none;\n",
       "  z-index: 9999;\n",
       "  position: relative;\n",
       "  font-weight: normal;\n",
       "  right: .2ex;\n",
       "  padding: .5ex;\n",
       "  margin: .5ex;\n",
       "  width: min-content;\n",
       "  min-width: 20ex;\n",
       "  max-width: 50ex;\n",
       "  color: var(--sklearn-color-text);\n",
       "  box-shadow: 2pt 2pt 4pt #999;\n",
       "  /* unfitted */\n",
       "  background: var(--sklearn-color-unfitted-level-0);\n",
       "  border: .5pt solid var(--sklearn-color-unfitted-level-3);\n",
       "}\n",
       "\n",
       ".sk-estimator-doc-link.fitted span {\n",
       "  /* fitted */\n",
       "  background: var(--sklearn-color-fitted-level-0);\n",
       "  border: var(--sklearn-color-fitted-level-3);\n",
       "}\n",
       "\n",
       ".sk-estimator-doc-link:hover span {\n",
       "  display: block;\n",
       "}\n",
       "\n",
       "/* \"?\"-specific style due to the `<a>` HTML tag */\n",
       "\n",
       "#sk-container-id-1 a.estimator_doc_link {\n",
       "  float: right;\n",
       "  font-size: 1rem;\n",
       "  line-height: 1em;\n",
       "  font-family: monospace;\n",
       "  background-color: var(--sklearn-color-background);\n",
       "  border-radius: 1rem;\n",
       "  height: 1rem;\n",
       "  width: 1rem;\n",
       "  text-decoration: none;\n",
       "  /* unfitted */\n",
       "  color: var(--sklearn-color-unfitted-level-1);\n",
       "  border: var(--sklearn-color-unfitted-level-1) 1pt solid;\n",
       "}\n",
       "\n",
       "#sk-container-id-1 a.estimator_doc_link.fitted {\n",
       "  /* fitted */\n",
       "  border: var(--sklearn-color-fitted-level-1) 1pt solid;\n",
       "  color: var(--sklearn-color-fitted-level-1);\n",
       "}\n",
       "\n",
       "/* On hover */\n",
       "#sk-container-id-1 a.estimator_doc_link:hover {\n",
       "  /* unfitted */\n",
       "  background-color: var(--sklearn-color-unfitted-level-3);\n",
       "  color: var(--sklearn-color-background);\n",
       "  text-decoration: none;\n",
       "}\n",
       "\n",
       "#sk-container-id-1 a.estimator_doc_link.fitted:hover {\n",
       "  /* fitted */\n",
       "  background-color: var(--sklearn-color-fitted-level-3);\n",
       "}\n",
       "</style><div id=\"sk-container-id-1\" class=\"sk-top-container\"><div class=\"sk-text-repr-fallback\"><pre>LinearRegression()</pre><b>In a Jupyter environment, please rerun this cell to show the HTML representation or trust the notebook. <br />On GitHub, the HTML representation is unable to render, please try loading this page with nbviewer.org.</b></div><div class=\"sk-container\" hidden><div class=\"sk-item\"><div class=\"sk-estimator fitted sk-toggleable\"><input class=\"sk-toggleable__control sk-hidden--visually\" id=\"sk-estimator-id-1\" type=\"checkbox\" checked><label for=\"sk-estimator-id-1\" class=\"sk-toggleable__label fitted sk-toggleable__label-arrow fitted\">&nbsp;&nbsp;LinearRegression<a class=\"sk-estimator-doc-link fitted\" rel=\"noreferrer\" target=\"_blank\" href=\"https://scikit-learn.org/1.4/modules/generated/sklearn.linear_model.LinearRegression.html\">?<span>Documentation for LinearRegression</span></a><span class=\"sk-estimator-doc-link fitted\">i<span>Fitted</span></span></label><div class=\"sk-toggleable__content fitted\"><pre>LinearRegression()</pre></div> </div></div></div></div>"
      ],
      "text/plain": [
       "LinearRegression()"
      ]
     },
     "execution_count": 27,
     "metadata": {},
     "output_type": "execute_result"
    }
   ],
   "source": [
    "regression_1.fit(X_train,Y_train)"
   ]
  },
  {
   "cell_type": "code",
   "execution_count": 29,
   "id": "df04da56-91dd-4d94-abdd-cf87a34da6b0",
   "metadata": {},
   "outputs": [
    {
     "name": "stdout",
     "output_type": "stream",
     "text": [
      "0.7325266179831744\n"
     ]
    }
   ],
   "source": [
    "from sklearn.metrics import r2_score\n",
    "score = r2_score(Y_test,regression_1.predict(X_test))\n",
    "print(score)"
   ]
  },
  {
   "cell_type": "code",
   "execution_count": 31,
   "id": "1d831449-6b0d-4159-b28a-eb86bb0aeb35",
   "metadata": {},
   "outputs": [
    {
     "data": {
      "text/plain": [
       "Text(0, 0.5, 'Y')"
      ]
     },
     "execution_count": 31,
     "metadata": {},
     "output_type": "execute_result"
    },
    {
     "data": {
      "image/png": "[encoded data removed]",
      "text/plain": [
       "<Figure size 640x480 with 1 Axes>"
      ]
     },
     "metadata": {},
     "output_type": "display_data"
    }
   ],
   "source": [
    "# Let's visualize this model\n",
    "plt.plot(X_train,regression_1.predict(X_train),color='r')\n",
    "plt.scatter(X_train,Y_train)\n",
    "plt.xlabel('X Dataset')\n",
    "plt.ylabel('Y')"
   ]
  },
  {
   "cell_type": "code",
   "execution_count": 33,
   "id": "93ee79ed-e599-4766-86c5-eb5864635984",
   "metadata": {},
   "outputs": [],
   "source": [
    "# Let's apply polynomial transformation\n",
    "from sklearn.preprocessing import PolynomialFeatures"
   ]
  },
  {
   "cell_type": "code",
   "execution_count": 35,
   "id": "f0216e3b-752b-4338-a02b-817c0a94040f",
   "metadata": {},
   "outputs": [],
   "source": [
    "poly=PolynomialFeatures(degree=2,include_bias=True)\n",
    "X_train_poly=poly.fit_transform(X_train)\n",
    "X_test_poly=poly.fit_transform(X_test)"
   ]
  },
  {
   "cell_type": "code",
   "execution_count": 37,
   "id": "5a478510-029d-469c-a8de-879f8458b3e2",
   "metadata": {},
   "outputs": [
    {
     "data": {
      "text/plain": [
       "array([[ 1.        , -2.63383671,  6.93709579],\n",
       "       [ 1.        ,  0.66088757,  0.43677238],\n",
       "       [ 1.        ,  0.47191881,  0.22270736],\n",
       "       [ 1.        , -1.0675689 ,  1.13970336],\n",
       "       [ 1.        ,  2.92528448,  8.55728931],\n",
       "       [ 1.        , -0.41542627,  0.17257898],\n",
       "       [ 1.        , -1.24792972,  1.55732858],\n",
       "       [ 1.        ,  0.15816858,  0.0250173 ],\n",
       "       [ 1.        ,  0.36948344,  0.13651802],\n",
       "       [ 1.        ,  0.20408041,  0.04164881],\n",
       "       [ 1.        ,  2.86449184,  8.2053135 ],\n",
       "       [ 1.        ,  2.24126629,  5.0232746 ],\n",
       "       [ 1.        , -0.5669048 ,  0.32138105],\n",
       "       [ 1.        ,  1.12951277,  1.27579909],\n",
       "       [ 1.        ,  1.77653392,  3.15607276],\n",
       "       [ 1.        , -0.13681381,  0.01871802],\n",
       "       [ 1.        , -2.99166407,  8.9500539 ],\n",
       "       [ 1.        , -1.28853528,  1.66032317],\n",
       "       [ 1.        , -2.20210197,  4.84925308],\n",
       "       [ 1.        ,  2.77191787,  7.6835287 ],\n",
       "       [ 1.        ,  0.13676164,  0.01870375],\n",
       "       [ 1.        , -2.92468943,  8.55380824],\n",
       "       [ 1.        , -2.85509016,  8.15153983],\n",
       "       [ 1.        ,  0.2794086 ,  0.07806917],\n",
       "       [ 1.        ,  0.76234504,  0.58116997],\n",
       "       [ 1.        , -2.36762458,  5.60564615],\n",
       "       [ 1.        , -2.42898135,  5.8999504 ],\n",
       "       [ 1.        , -2.11866879,  4.48875744],\n",
       "       [ 1.        ,  1.17263177,  1.37506526],\n",
       "       [ 1.        ,  1.03886409,  1.07923859],\n",
       "       [ 1.        ,  0.63640142,  0.40500676],\n",
       "       [ 1.        ,  2.73375086,  7.47339378],\n",
       "       [ 1.        , -1.61791777,  2.6176579 ],\n",
       "       [ 1.        , -2.07229891,  4.29442278],\n",
       "       [ 1.        , -0.45070181,  0.20313212],\n",
       "       [ 1.        ,  0.82560499,  0.68162359],\n",
       "       [ 1.        ,  0.26237722,  0.06884181],\n",
       "       [ 1.        , -2.01736108,  4.06974573],\n",
       "       [ 1.        ,  2.11017373,  4.45283318],\n",
       "       [ 1.        ,  1.58384073,  2.50855146],\n",
       "       [ 1.        , -2.13545342,  4.56016129],\n",
       "       [ 1.        , -2.03553172,  4.1433894 ],\n",
       "       [ 1.        , -2.7160703 ,  7.37703788],\n",
       "       [ 1.        , -0.28380797,  0.08054697],\n",
       "       [ 1.        ,  2.65812139,  7.0656093 ],\n",
       "       [ 1.        , -2.02453032,  4.09872303],\n",
       "       [ 1.        , -0.42575074,  0.18126369],\n",
       "       [ 1.        , -0.15448153,  0.02386454],\n",
       "       [ 1.        ,  0.30394265,  0.09238113],\n",
       "       [ 1.        ,  0.10760229,  0.01157825],\n",
       "       [ 1.        ,  0.46165738,  0.21312753],\n",
       "       [ 1.        ,  1.64545484,  2.70752164],\n",
       "       [ 1.        ,  1.12053424,  1.25559699],\n",
       "       [ 1.        , -0.18333663,  0.03361232],\n",
       "       [ 1.        , -1.78449587,  3.1844255 ],\n",
       "       [ 1.        ,  0.8252024 ,  0.68095899],\n",
       "       [ 1.        , -0.81270447,  0.66048856],\n",
       "       [ 1.        , -0.9071825 ,  0.82298009],\n",
       "       [ 1.        ,  2.16006216,  4.66586855],\n",
       "       [ 1.        , -0.84347689,  0.71145327],\n",
       "       [ 1.        , -1.93197468,  3.73252617],\n",
       "       [ 1.        ,  2.2724023 ,  5.16381223],\n",
       "       [ 1.        ,  1.31976382,  1.74177653],\n",
       "       [ 1.        , -1.00977622,  1.01964802],\n",
       "       [ 1.        ,  0.71014015,  0.50429903],\n",
       "       [ 1.        , -2.71008187,  7.34454372],\n",
       "       [ 1.        , -2.14437279,  4.59833466],\n",
       "       [ 1.        ,  2.32696819,  5.41478096],\n",
       "       [ 1.        , -0.68489739,  0.46908443],\n",
       "       [ 1.        , -2.74033323,  7.50942624],\n",
       "       [ 1.        ,  2.95965317,  8.75954691],\n",
       "       [ 1.        , -0.09540647,  0.00910239],\n",
       "       [ 1.        ,  2.52425781,  6.37187749],\n",
       "       [ 1.        , -1.00500976,  1.01004461],\n",
       "       [ 1.        , -0.1724953 ,  0.02975463],\n",
       "       [ 1.        , -0.93440961,  0.87312132],\n",
       "       [ 1.        , -2.46741354,  6.0881296 ],\n",
       "       [ 1.        ,  2.77962057,  7.72629049],\n",
       "       [ 1.        ,  1.02995986,  1.06081732],\n",
       "       [ 1.        , -0.91511733,  0.83743973]])"
      ]
     },
     "execution_count": 37,
     "metadata": {},
     "output_type": "execute_result"
    }
   ],
   "source": [
    "X_train_poly"
   ]
  },
  {
   "cell_type": "code",
   "execution_count": 39,
   "id": "2a7f7691-bede-4db9-b1ff-081c2f6a9f0f",
   "metadata": {},
   "outputs": [
    {
     "data": {
      "text/plain": [
       "array([[ 1.        ,  1.97773299,  3.91142778],\n",
       "       [ 1.        ,  1.40257241,  1.96720937],\n",
       "       [ 1.        ,  2.56953887,  6.60252999],\n",
       "       [ 1.        ,  1.83091591,  3.35225306],\n",
       "       [ 1.        , -1.73917589,  3.02473276],\n",
       "       [ 1.        ,  2.7786125 ,  7.72068744],\n",
       "       [ 1.        ,  1.17687582,  1.3850367 ],\n",
       "       [ 1.        ,  2.24072355,  5.02084203],\n",
       "       [ 1.        , -1.76750363,  3.12406909],\n",
       "       [ 1.        , -2.34075688,  5.47914277],\n",
       "       [ 1.        , -1.8760939 ,  3.51972833],\n",
       "       [ 1.        , -0.57011564,  0.32503184],\n",
       "       [ 1.        , -2.41465573,  5.83056228],\n",
       "       [ 1.        ,  0.68651594,  0.47130413],\n",
       "       [ 1.        ,  1.58417223,  2.50960167],\n",
       "       [ 1.        ,  0.64437032,  0.41521311],\n",
       "       [ 1.        ,  2.64055588,  6.97253535],\n",
       "       [ 1.        , -0.31711172,  0.10055984],\n",
       "       [ 1.        ,  1.0970071 ,  1.20342458],\n",
       "       [ 1.        ,  0.95578709,  0.91352897]])"
      ]
     },
     "execution_count": 39,
     "metadata": {},
     "output_type": "execute_result"
    }
   ],
   "source": [
    "X_test_poly"
   ]
  },
  {
   "cell_type": "code",
   "execution_count": 45,
   "id": "e49df9b3-2ab8-41f7-a80b-89a23dfa0d92",
   "metadata": {},
   "outputs": [
    {
     "name": "stdout",
     "output_type": "stream",
     "text": [
      "0.8646078300023349\n"
     ]
    }
   ],
   "source": [
    "# include bias parameter\n",
    "from sklearn.metrics import r2_score\n",
    "regression = LinearRegression()\n",
    "regression.fit(X_train_poly,Y_train)\n",
    "y_pred = regression.predict(X_test_poly)\n",
    "score = r2_score(Y_test,y_pred)\n",
    "print(score)"
   ]
  },
  {
   "cell_type": "code",
   "execution_count": 47,
   "id": "4e4ed687-d497-4fcd-8f0c-cfb68edb8972",
   "metadata": {},
   "outputs": [
    {
     "name": "stdout",
     "output_type": "stream",
     "text": [
      "[[0.         1.50694908 0.46268354]]\n"
     ]
    }
   ],
   "source": [
    "print(regression.coef_)"
   ]
  },
  {
   "cell_type": "code",
   "execution_count": 49,
   "id": "f47a34f8-12a2-4011-bf74-4b22b0a15a59",
   "metadata": {},
   "outputs": [
    {
     "name": "stdout",
     "output_type": "stream",
     "text": [
      "[-0.07382521]\n"
     ]
    }
   ],
   "source": [
    "print(regression.intercept_)"
   ]
  },
  {
   "cell_type": "code",
   "execution_count": 55,
   "id": "2cac60eb-a26a-474f-9cfc-70c47c7c7b0c",
   "metadata": {},
   "outputs": [
    {
     "data": {
      "text/plain": [
       "<matplotlib.collections.PathCollection at 0x27c02511ee0>"
      ]
     },
     "execution_count": 55,
     "metadata": {},
     "output_type": "execute_result"
    },
    {
     "data": {
      "image/png": "[encoded data removed]",
      "text/plain": [
       "<Figure size 640x480 with 1 Axes>"
      ]
     },
     "metadata": {},
     "output_type": "display_data"
    }
   ],
   "source": [
    "plt.scatter(X_train,regression.predict(X_train_poly))\n",
    "plt.scatter(X_train,Y_train)"
   ]
  },
  {
   "cell_type": "code",
   "execution_count": 57,
   "id": "20cb3fc4-d9ab-4679-910a-acf22839c1b0",
   "metadata": {},
   "outputs": [],
   "source": [
    "poly = PolynomialFeatures(degree=2,include_bias=True)\n",
    "X_train_poly=poly.fit_transform(X_train)\n",
    "X_test_poly=poly.transform(X_test)"
   ]
  },
  {
   "cell_type": "code",
   "execution_count": 59,
   "id": "e892d5b7-dcd5-46e1-9c91-a56a721697dc",
   "metadata": {},
   "outputs": [
    {
     "data": {
      "text/plain": [
       "array([[ 1.        , -2.63383671,  6.93709579],\n",
       "       [ 1.        ,  0.66088757,  0.43677238],\n",
       "       [ 1.        ,  0.47191881,  0.22270736],\n",
       "       [ 1.        , -1.0675689 ,  1.13970336],\n",
       "       [ 1.        ,  2.92528448,  8.55728931],\n",
       "       [ 1.        , -0.41542627,  0.17257898],\n",
       "       [ 1.        , -1.24792972,  1.55732858],\n",
       "       [ 1.        ,  0.15816858,  0.0250173 ],\n",
       "       [ 1.        ,  0.36948344,  0.13651802],\n",
       "       [ 1.        ,  0.20408041,  0.04164881],\n",
       "       [ 1.        ,  2.86449184,  8.2053135 ],\n",
       "       [ 1.        ,  2.24126629,  5.0232746 ],\n",
       "       [ 1.        , -0.5669048 ,  0.32138105],\n",
       "       [ 1.        ,  1.12951277,  1.27579909],\n",
       "       [ 1.        ,  1.77653392,  3.15607276],\n",
       "       [ 1.        , -0.13681381,  0.01871802],\n",
       "       [ 1.        , -2.99166407,  8.9500539 ],\n",
       "       [ 1.        , -1.28853528,  1.66032317],\n",
       "       [ 1.        , -2.20210197,  4.84925308],\n",
       "       [ 1.        ,  2.77191787,  7.6835287 ],\n",
       "       [ 1.        ,  0.13676164,  0.01870375],\n",
       "       [ 1.        , -2.92468943,  8.55380824],\n",
       "       [ 1.        , -2.85509016,  8.15153983],\n",
       "       [ 1.        ,  0.2794086 ,  0.07806917],\n",
       "       [ 1.        ,  0.76234504,  0.58116997],\n",
       "       [ 1.        , -2.36762458,  5.60564615],\n",
       "       [ 1.        , -2.42898135,  5.8999504 ],\n",
       "       [ 1.        , -2.11866879,  4.48875744],\n",
       "       [ 1.        ,  1.17263177,  1.37506526],\n",
       "       [ 1.        ,  1.03886409,  1.07923859],\n",
       "       [ 1.        ,  0.63640142,  0.40500676],\n",
       "       [ 1.        ,  2.73375086,  7.47339378],\n",
       "       [ 1.        , -1.61791777,  2.6176579 ],\n",
       "       [ 1.        , -2.07229891,  4.29442278],\n",
       "       [ 1.        , -0.45070181,  0.20313212],\n",
       "       [ 1.        ,  0.82560499,  0.68162359],\n",
       "       [ 1.        ,  0.26237722,  0.06884181],\n",
       "       [ 1.        , -2.01736108,  4.06974573],\n",
       "       [ 1.        ,  2.11017373,  4.45283318],\n",
       "       [ 1.        ,  1.58384073,  2.50855146],\n",
       "       [ 1.        , -2.13545342,  4.56016129],\n",
       "       [ 1.        , -2.03553172,  4.1433894 ],\n",
       "       [ 1.        , -2.7160703 ,  7.37703788],\n",
       "       [ 1.        , -0.28380797,  0.08054697],\n",
       "       [ 1.        ,  2.65812139,  7.0656093 ],\n",
       "       [ 1.        , -2.02453032,  4.09872303],\n",
       "       [ 1.        , -0.42575074,  0.18126369],\n",
       "       [ 1.        , -0.15448153,  0.02386454],\n",
       "       [ 1.        ,  0.30394265,  0.09238113],\n",
       "       [ 1.        ,  0.10760229,  0.01157825],\n",
       "       [ 1.        ,  0.46165738,  0.21312753],\n",
       "       [ 1.        ,  1.64545484,  2.70752164],\n",
       "       [ 1.        ,  1.12053424,  1.25559699],\n",
       "       [ 1.        , -0.18333663,  0.03361232],\n",
       "       [ 1.        , -1.78449587,  3.1844255 ],\n",
       "       [ 1.        ,  0.8252024 ,  0.68095899],\n",
       "       [ 1.        , -0.81270447,  0.66048856],\n",
       "       [ 1.        , -0.9071825 ,  0.82298009],\n",
       "       [ 1.        ,  2.16006216,  4.66586855],\n",
       "       [ 1.        , -0.84347689,  0.71145327],\n",
       "       [ 1.        , -1.93197468,  3.73252617],\n",
       "       [ 1.        ,  2.2724023 ,  5.16381223],\n",
       "       [ 1.        ,  1.31976382,  1.74177653],\n",
       "       [ 1.        , -1.00977622,  1.01964802],\n",
       "       [ 1.        ,  0.71014015,  0.50429903],\n",
       "       [ 1.        , -2.71008187,  7.34454372],\n",
       "       [ 1.        , -2.14437279,  4.59833466],\n",
       "       [ 1.        ,  2.32696819,  5.41478096],\n",
       "       [ 1.        , -0.68489739,  0.46908443],\n",
       "       [ 1.        , -2.74033323,  7.50942624],\n",
       "       [ 1.        ,  2.95965317,  8.75954691],\n",
       "       [ 1.        , -0.09540647,  0.00910239],\n",
       "       [ 1.        ,  2.52425781,  6.37187749],\n",
       "       [ 1.        , -1.00500976,  1.01004461],\n",
       "       [ 1.        , -0.1724953 ,  0.02975463],\n",
       "       [ 1.        , -0.93440961,  0.87312132],\n",
       "       [ 1.        , -2.46741354,  6.0881296 ],\n",
       "       [ 1.        ,  2.77962057,  7.72629049],\n",
       "       [ 1.        ,  1.02995986,  1.06081732],\n",
       "       [ 1.        , -0.91511733,  0.83743973]])"
      ]
     },
     "execution_count": 59,
     "metadata": {},
     "output_type": "execute_result"
    }
   ],
   "source": [
    "X_train_poly"
   ]
  },
  {
   "cell_type": "code",
   "execution_count": 61,
   "id": "d2e0812f-142d-4c5b-9a93-861664edeb64",
   "metadata": {},
   "outputs": [
    {
     "name": "stdout",
     "output_type": "stream",
     "text": [
      "0.8646078300023349\n"
     ]
    }
   ],
   "source": [
    "from sklearn.metrics import r2_score\n",
    "regression = LinearRegression()\n",
    "regression.fit(X_train_poly,Y_train)\n",
    "y_pred=regression.predict(X_test_poly)\n",
    "score=r2_score(Y_test,y_pred)\n",
    "print(score)"
   ]
  },
  {
   "cell_type": "code",
   "execution_count": 63,
   "id": "8f8dbd9e-f709-4c2c-be22-e67dcf5f1e07",
   "metadata": {},
   "outputs": [
    {
     "data": {
      "text/plain": [
       "array([[ 1.00000000e+00, -3.00000000e+00,  9.00000000e+00],\n",
       "       [ 1.00000000e+00, -2.96984925e+00,  8.82000455e+00],\n",
       "       [ 1.00000000e+00, -2.93969849e+00,  8.64182723e+00],\n",
       "       [ 1.00000000e+00, -2.90954774e+00,  8.46546804e+00],\n",
       "       [ 1.00000000e+00, -2.87939698e+00,  8.29092700e+00],\n",
       "       [ 1.00000000e+00, -2.84924623e+00,  8.11820409e+00],\n",
       "       [ 1.00000000e+00, -2.81909548e+00,  7.94729931e+00],\n",
       "       [ 1.00000000e+00, -2.78894472e+00,  7.77821267e+00],\n",
       "       [ 1.00000000e+00, -2.75879397e+00,  7.61094417e+00],\n",
       "       [ 1.00000000e+00, -2.72864322e+00,  7.44549380e+00],\n",
       "       [ 1.00000000e+00, -2.69849246e+00,  7.28186157e+00],\n",
       "       [ 1.00000000e+00, -2.66834171e+00,  7.12004747e+00],\n",
       "       [ 1.00000000e+00, -2.63819095e+00,  6.96005151e+00],\n",
       "       [ 1.00000000e+00, -2.60804020e+00,  6.80187369e+00],\n",
       "       [ 1.00000000e+00, -2.57788945e+00,  6.64551400e+00],\n",
       "       [ 1.00000000e+00, -2.54773869e+00,  6.49097245e+00],\n",
       "       [ 1.00000000e+00, -2.51758794e+00,  6.33824903e+00],\n",
       "       [ 1.00000000e+00, -2.48743719e+00,  6.18734375e+00],\n",
       "       [ 1.00000000e+00, -2.45728643e+00,  6.03825661e+00],\n",
       "       [ 1.00000000e+00, -2.42713568e+00,  5.89098760e+00],\n",
       "       [ 1.00000000e+00, -2.39698492e+00,  5.74553673e+00],\n",
       "       [ 1.00000000e+00, -2.36683417e+00,  5.60190399e+00],\n",
       "       [ 1.00000000e+00, -2.33668342e+00,  5.46008939e+00],\n",
       "       [ 1.00000000e+00, -2.30653266e+00,  5.32009293e+00],\n",
       "       [ 1.00000000e+00, -2.27638191e+00,  5.18191460e+00],\n",
       "       [ 1.00000000e+00, -2.24623116e+00,  5.04555441e+00],\n",
       "       [ 1.00000000e+00, -2.21608040e+00,  4.91101235e+00],\n",
       "       [ 1.00000000e+00, -2.18592965e+00,  4.77828843e+00],\n",
       "       [ 1.00000000e+00, -2.15577889e+00,  4.64738264e+00],\n",
       "       [ 1.00000000e+00, -2.12562814e+00,  4.51829499e+00],\n",
       "       [ 1.00000000e+00, -2.09547739e+00,  4.39102548e+00],\n",
       "       [ 1.00000000e+00, -2.06532663e+00,  4.26557410e+00],\n",
       "       [ 1.00000000e+00, -2.03517588e+00,  4.14194086e+00],\n",
       "       [ 1.00000000e+00, -2.00502513e+00,  4.02012575e+00],\n",
       "       [ 1.00000000e+00, -1.97487437e+00,  3.90012878e+00],\n",
       "       [ 1.00000000e+00, -1.94472362e+00,  3.78194995e+00],\n",
       "       [ 1.00000000e+00, -1.91457286e+00,  3.66558925e+00],\n",
       "       [ 1.00000000e+00, -1.88442211e+00,  3.55104669e+00],\n",
       "       [ 1.00000000e+00, -1.85427136e+00,  3.43832226e+00],\n",
       "       [ 1.00000000e+00, -1.82412060e+00,  3.32741597e+00],\n",
       "       [ 1.00000000e+00, -1.79396985e+00,  3.21832782e+00],\n",
       "       [ 1.00000000e+00, -1.76381910e+00,  3.11105780e+00],\n",
       "       [ 1.00000000e+00, -1.73366834e+00,  3.00560592e+00],\n",
       "       [ 1.00000000e+00, -1.70351759e+00,  2.90197217e+00],\n",
       "       [ 1.00000000e+00, -1.67336683e+00,  2.80015656e+00],\n",
       "       [ 1.00000000e+00, -1.64321608e+00,  2.70015909e+00],\n",
       "       [ 1.00000000e+00, -1.61306533e+00,  2.60197975e+00],\n",
       "       [ 1.00000000e+00, -1.58291457e+00,  2.50561854e+00],\n",
       "       [ 1.00000000e+00, -1.55276382e+00,  2.41107548e+00],\n",
       "       [ 1.00000000e+00, -1.52261307e+00,  2.31835055e+00],\n",
       "       [ 1.00000000e+00, -1.49246231e+00,  2.22744375e+00],\n",
       "       [ 1.00000000e+00, -1.46231156e+00,  2.13835509e+00],\n",
       "       [ 1.00000000e+00, -1.43216080e+00,  2.05108457e+00],\n",
       "       [ 1.00000000e+00, -1.40201005e+00,  1.96563218e+00],\n",
       "       [ 1.00000000e+00, -1.37185930e+00,  1.88199793e+00],\n",
       "       [ 1.00000000e+00, -1.34170854e+00,  1.80018181e+00],\n",
       "       [ 1.00000000e+00, -1.31155779e+00,  1.72018383e+00],\n",
       "       [ 1.00000000e+00, -1.28140704e+00,  1.64200399e+00],\n",
       "       [ 1.00000000e+00, -1.25125628e+00,  1.56564228e+00],\n",
       "       [ 1.00000000e+00, -1.22110553e+00,  1.49109871e+00],\n",
       "       [ 1.00000000e+00, -1.19095477e+00,  1.41837327e+00],\n",
       "       [ 1.00000000e+00, -1.16080402e+00,  1.34746597e+00],\n",
       "       [ 1.00000000e+00, -1.13065327e+00,  1.27837681e+00],\n",
       "       [ 1.00000000e+00, -1.10050251e+00,  1.21110578e+00],\n",
       "       [ 1.00000000e+00, -1.07035176e+00,  1.14565289e+00],\n",
       "       [ 1.00000000e+00, -1.04020101e+00,  1.08201813e+00],\n",
       "       [ 1.00000000e+00, -1.01005025e+00,  1.02020151e+00],\n",
       "       [ 1.00000000e+00, -9.79899497e-01,  9.60203025e-01],\n",
       "       [ 1.00000000e+00, -9.49748744e-01,  9.02022676e-01],\n",
       "       [ 1.00000000e+00, -9.19597990e-01,  8.45660463e-01],\n",
       "       [ 1.00000000e+00, -8.89447236e-01,  7.91116386e-01],\n",
       "       [ 1.00000000e+00, -8.59296482e-01,  7.38390445e-01],\n",
       "       [ 1.00000000e+00, -8.29145729e-01,  6.87482639e-01],\n",
       "       [ 1.00000000e+00, -7.98994975e-01,  6.38392970e-01],\n",
       "       [ 1.00000000e+00, -7.68844221e-01,  5.91121436e-01],\n",
       "       [ 1.00000000e+00, -7.38693467e-01,  5.45668039e-01],\n",
       "       [ 1.00000000e+00, -7.08542714e-01,  5.02032777e-01],\n",
       "       [ 1.00000000e+00, -6.78391960e-01,  4.60215651e-01],\n",
       "       [ 1.00000000e+00, -6.48241206e-01,  4.20216661e-01],\n",
       "       [ 1.00000000e+00, -6.18090452e-01,  3.82035807e-01],\n",
       "       [ 1.00000000e+00, -5.87939698e-01,  3.45673089e-01],\n",
       "       [ 1.00000000e+00, -5.57788945e-01,  3.11128507e-01],\n",
       "       [ 1.00000000e+00, -5.27638191e-01,  2.78402061e-01],\n",
       "       [ 1.00000000e+00, -4.97487437e-01,  2.47493750e-01],\n",
       "       [ 1.00000000e+00, -4.67336683e-01,  2.18403576e-01],\n",
       "       [ 1.00000000e+00, -4.37185930e-01,  1.91131537e-01],\n",
       "       [ 1.00000000e+00, -4.07035176e-01,  1.65677634e-01],\n",
       "       [ 1.00000000e+00, -3.76884422e-01,  1.42041868e-01],\n",
       "       [ 1.00000000e+00, -3.46733668e-01,  1.20224237e-01],\n",
       "       [ 1.00000000e+00, -3.16582915e-01,  1.00224742e-01],\n",
       "       [ 1.00000000e+00, -2.86432161e-01,  8.20433827e-02],\n",
       "       [ 1.00000000e+00, -2.56281407e-01,  6.56801596e-02],\n",
       "       [ 1.00000000e+00, -2.26130653e-01,  5.11350723e-02],\n",
       "       [ 1.00000000e+00, -1.95979899e-01,  3.84081210e-02],\n",
       "       [ 1.00000000e+00, -1.65829146e-01,  2.74993056e-02],\n",
       "       [ 1.00000000e+00, -1.35678392e-01,  1.84086260e-02],\n",
       "       [ 1.00000000e+00, -1.05527638e-01,  1.11360824e-02],\n",
       "       [ 1.00000000e+00, -7.53768844e-02,  5.68167471e-03],\n",
       "       [ 1.00000000e+00, -4.52261307e-02,  2.04540289e-03],\n",
       "       [ 1.00000000e+00, -1.50753769e-02,  2.27266988e-04],\n",
       "       [ 1.00000000e+00,  1.50753769e-02,  2.27266988e-04],\n",
       "       [ 1.00000000e+00,  4.52261307e-02,  2.04540289e-03],\n",
       "       [ 1.00000000e+00,  7.53768844e-02,  5.68167471e-03],\n",
       "       [ 1.00000000e+00,  1.05527638e-01,  1.11360824e-02],\n",
       "       [ 1.00000000e+00,  1.35678392e-01,  1.84086260e-02],\n",
       "       [ 1.00000000e+00,  1.65829146e-01,  2.74993056e-02],\n",
       "       [ 1.00000000e+00,  1.95979899e-01,  3.84081210e-02],\n",
       "       [ 1.00000000e+00,  2.26130653e-01,  5.11350723e-02],\n",
       "       [ 1.00000000e+00,  2.56281407e-01,  6.56801596e-02],\n",
       "       [ 1.00000000e+00,  2.86432161e-01,  8.20433827e-02],\n",
       "       [ 1.00000000e+00,  3.16582915e-01,  1.00224742e-01],\n",
       "       [ 1.00000000e+00,  3.46733668e-01,  1.20224237e-01],\n",
       "       [ 1.00000000e+00,  3.76884422e-01,  1.42041868e-01],\n",
       "       [ 1.00000000e+00,  4.07035176e-01,  1.65677634e-01],\n",
       "       [ 1.00000000e+00,  4.37185930e-01,  1.91131537e-01],\n",
       "       [ 1.00000000e+00,  4.67336683e-01,  2.18403576e-01],\n",
       "       [ 1.00000000e+00,  4.97487437e-01,  2.47493750e-01],\n",
       "       [ 1.00000000e+00,  5.27638191e-01,  2.78402061e-01],\n",
       "       [ 1.00000000e+00,  5.57788945e-01,  3.11128507e-01],\n",
       "       [ 1.00000000e+00,  5.87939698e-01,  3.45673089e-01],\n",
       "       [ 1.00000000e+00,  6.18090452e-01,  3.82035807e-01],\n",
       "       [ 1.00000000e+00,  6.48241206e-01,  4.20216661e-01],\n",
       "       [ 1.00000000e+00,  6.78391960e-01,  4.60215651e-01],\n",
       "       [ 1.00000000e+00,  7.08542714e-01,  5.02032777e-01],\n",
       "       [ 1.00000000e+00,  7.38693467e-01,  5.45668039e-01],\n",
       "       [ 1.00000000e+00,  7.68844221e-01,  5.91121436e-01],\n",
       "       [ 1.00000000e+00,  7.98994975e-01,  6.38392970e-01],\n",
       "       [ 1.00000000e+00,  8.29145729e-01,  6.87482639e-01],\n",
       "       [ 1.00000000e+00,  8.59296482e-01,  7.38390445e-01],\n",
       "       [ 1.00000000e+00,  8.89447236e-01,  7.91116386e-01],\n",
       "       [ 1.00000000e+00,  9.19597990e-01,  8.45660463e-01],\n",
       "       [ 1.00000000e+00,  9.49748744e-01,  9.02022676e-01],\n",
       "       [ 1.00000000e+00,  9.79899497e-01,  9.60203025e-01],\n",
       "       [ 1.00000000e+00,  1.01005025e+00,  1.02020151e+00],\n",
       "       [ 1.00000000e+00,  1.04020101e+00,  1.08201813e+00],\n",
       "       [ 1.00000000e+00,  1.07035176e+00,  1.14565289e+00],\n",
       "       [ 1.00000000e+00,  1.10050251e+00,  1.21110578e+00],\n",
       "       [ 1.00000000e+00,  1.13065327e+00,  1.27837681e+00],\n",
       "       [ 1.00000000e+00,  1.16080402e+00,  1.34746597e+00],\n",
       "       [ 1.00000000e+00,  1.19095477e+00,  1.41837327e+00],\n",
       "       [ 1.00000000e+00,  1.22110553e+00,  1.49109871e+00],\n",
       "       [ 1.00000000e+00,  1.25125628e+00,  1.56564228e+00],\n",
       "       [ 1.00000000e+00,  1.28140704e+00,  1.64200399e+00],\n",
       "       [ 1.00000000e+00,  1.31155779e+00,  1.72018383e+00],\n",
       "       [ 1.00000000e+00,  1.34170854e+00,  1.80018181e+00],\n",
       "       [ 1.00000000e+00,  1.37185930e+00,  1.88199793e+00],\n",
       "       [ 1.00000000e+00,  1.40201005e+00,  1.96563218e+00],\n",
       "       [ 1.00000000e+00,  1.43216080e+00,  2.05108457e+00],\n",
       "       [ 1.00000000e+00,  1.46231156e+00,  2.13835509e+00],\n",
       "       [ 1.00000000e+00,  1.49246231e+00,  2.22744375e+00],\n",
       "       [ 1.00000000e+00,  1.52261307e+00,  2.31835055e+00],\n",
       "       [ 1.00000000e+00,  1.55276382e+00,  2.41107548e+00],\n",
       "       [ 1.00000000e+00,  1.58291457e+00,  2.50561854e+00],\n",
       "       [ 1.00000000e+00,  1.61306533e+00,  2.60197975e+00],\n",
       "       [ 1.00000000e+00,  1.64321608e+00,  2.70015909e+00],\n",
       "       [ 1.00000000e+00,  1.67336683e+00,  2.80015656e+00],\n",
       "       [ 1.00000000e+00,  1.70351759e+00,  2.90197217e+00],\n",
       "       [ 1.00000000e+00,  1.73366834e+00,  3.00560592e+00],\n",
       "       [ 1.00000000e+00,  1.76381910e+00,  3.11105780e+00],\n",
       "       [ 1.00000000e+00,  1.79396985e+00,  3.21832782e+00],\n",
       "       [ 1.00000000e+00,  1.82412060e+00,  3.32741597e+00],\n",
       "       [ 1.00000000e+00,  1.85427136e+00,  3.43832226e+00],\n",
       "       [ 1.00000000e+00,  1.88442211e+00,  3.55104669e+00],\n",
       "       [ 1.00000000e+00,  1.91457286e+00,  3.66558925e+00],\n",
       "       [ 1.00000000e+00,  1.94472362e+00,  3.78194995e+00],\n",
       "       [ 1.00000000e+00,  1.97487437e+00,  3.90012878e+00],\n",
       "       [ 1.00000000e+00,  2.00502513e+00,  4.02012575e+00],\n",
       "       [ 1.00000000e+00,  2.03517588e+00,  4.14194086e+00],\n",
       "       [ 1.00000000e+00,  2.06532663e+00,  4.26557410e+00],\n",
       "       [ 1.00000000e+00,  2.09547739e+00,  4.39102548e+00],\n",
       "       [ 1.00000000e+00,  2.12562814e+00,  4.51829499e+00],\n",
       "       [ 1.00000000e+00,  2.15577889e+00,  4.64738264e+00],\n",
       "       [ 1.00000000e+00,  2.18592965e+00,  4.77828843e+00],\n",
       "       [ 1.00000000e+00,  2.21608040e+00,  4.91101235e+00],\n",
       "       [ 1.00000000e+00,  2.24623116e+00,  5.04555441e+00],\n",
       "       [ 1.00000000e+00,  2.27638191e+00,  5.18191460e+00],\n",
       "       [ 1.00000000e+00,  2.30653266e+00,  5.32009293e+00],\n",
       "       [ 1.00000000e+00,  2.33668342e+00,  5.46008939e+00],\n",
       "       [ 1.00000000e+00,  2.36683417e+00,  5.60190399e+00],\n",
       "       [ 1.00000000e+00,  2.39698492e+00,  5.74553673e+00],\n",
       "       [ 1.00000000e+00,  2.42713568e+00,  5.89098760e+00],\n",
       "       [ 1.00000000e+00,  2.45728643e+00,  6.03825661e+00],\n",
       "       [ 1.00000000e+00,  2.48743719e+00,  6.18734375e+00],\n",
       "       [ 1.00000000e+00,  2.51758794e+00,  6.33824903e+00],\n",
       "       [ 1.00000000e+00,  2.54773869e+00,  6.49097245e+00],\n",
       "       [ 1.00000000e+00,  2.57788945e+00,  6.64551400e+00],\n",
       "       [ 1.00000000e+00,  2.60804020e+00,  6.80187369e+00],\n",
       "       [ 1.00000000e+00,  2.63819095e+00,  6.96005151e+00],\n",
       "       [ 1.00000000e+00,  2.66834171e+00,  7.12004747e+00],\n",
       "       [ 1.00000000e+00,  2.69849246e+00,  7.28186157e+00],\n",
       "       [ 1.00000000e+00,  2.72864322e+00,  7.44549380e+00],\n",
       "       [ 1.00000000e+00,  2.75879397e+00,  7.61094417e+00],\n",
       "       [ 1.00000000e+00,  2.78894472e+00,  7.77821267e+00],\n",
       "       [ 1.00000000e+00,  2.81909548e+00,  7.94729931e+00],\n",
       "       [ 1.00000000e+00,  2.84924623e+00,  8.11820409e+00],\n",
       "       [ 1.00000000e+00,  2.87939698e+00,  8.29092700e+00],\n",
       "       [ 1.00000000e+00,  2.90954774e+00,  8.46546804e+00],\n",
       "       [ 1.00000000e+00,  2.93969849e+00,  8.64182723e+00],\n",
       "       [ 1.00000000e+00,  2.96984925e+00,  8.82000455e+00],\n",
       "       [ 1.00000000e+00,  3.00000000e+00,  9.00000000e+00]])"
      ]
     },
     "execution_count": 63,
     "metadata": {},
     "output_type": "execute_result"
    }
   ],
   "source": [
    "# Prediction of new data set\n",
    "X_new = np.linspace(-3,3,200).reshape(200,1)\n",
    "X_new_poly=poly.transform(X_new)\n",
    "X_new_poly"
   ]
  },
  {
   "cell_type": "code",
   "execution_count": 67,
   "id": "68fb84ad-e82e-4797-b5ef-ae0f9e2b3dd7",
   "metadata": {},
   "outputs": [
    {
     "data": {
      "image/png": "[encoded data removed]",
      "text/plain": [
       "<Figure size 640x480 with 1 Axes>"
      ]
     },
     "metadata": {},
     "output_type": "display_data"
    }
   ],
   "source": [
    "Y_new=regression.predict(X_new_poly)\n",
    "plt.plot(X_new,Y_new,'r-',linewidth=2,label=\"New Predictions\")\n",
    "plt.plot(X_train,Y_train,\"b.\",label=\"Training points\")\n",
    "plt.plot(X_test,Y_test,\"g.\",label=\"Testing points\")\n",
    "plt.xlabel(\"X\")\n",
    "plt.ylabel(\"Y\")\n",
    "plt.legend()\n",
    "plt.show()"
   ]
  },
  {
   "cell_type": "markdown",
   "id": "cd3f30e4-66c7-4961-9d97-0cf9149efe56",
   "metadata": {},
   "source": [
    "## Pipeline Concepts"
   ]
  },
  {
   "cell_type": "code",
   "execution_count": 70,
   "id": "32491b96-b4e5-4b35-af9b-a459a2b05f59",
   "metadata": {},
   "outputs": [],
   "source": [
    "from sklearn.pipeline import Pipeline"
   ]
  },
  {
   "cell_type": "code",
   "execution_count": 108,
   "id": "2815c7d0-6c1b-4562-b953-4a63887fea0e",
   "metadata": {},
   "outputs": [],
   "source": [
    "def poly_regression(degree):\n",
    "    X_new = np.linspace(-3,3,200).reshape(200,1)\n",
    "    poly_features=PolynomialFeatures(degree=degree,include_bias=True)\n",
    "    lin_reg=LinearRegression()\n",
    "    poly_regression=Pipeline([\n",
    "        (\"poly_features\",poly_features),\n",
    "        (\"lin_reg\",lin_reg)\n",
    "    ])\n",
    "    poly_regression.fit(X_train,Y_train) # Polynomial and fit of linear regression\n",
    "    y_pred_new = poly_regression.predict(X_new)\n",
    "    # Plotting prediction line\n",
    "    plt.plot(X_new,y_pred_new,'r',label=\"Degree \"+str(degree),linewidth=3)\n",
    "    plt.plot(X_train,Y_train,\"b.\",linewidth=3)\n",
    "    plt.plot(X_test,Y_test,\"g.\",linewidth=3)\n",
    "    plt.legend(loc=\"upper left\")\n",
    "    plt.xlabel(\"X\")\n",
    "    plt.ylabel(\"Y\")\n",
    "    plt.axis([-4,4,0,10])\n",
    "    plt.show()"
   ]
  },
  {
   "cell_type": "code",
   "execution_count": 110,
   "id": "f7a09b5e-5e8b-435e-8373-dbf63a94b7e9",
   "metadata": {},
   "outputs": [
    {
     "data": {
      "image/png": "[encoded data removed]",
      "text/plain": [
       "<Figure size 640x480 with 1 Axes>"
      ]
     },
     "metadata": {},
     "output_type": "display_data"
    }
   ],
   "source": [
    "poly_regression(1) # High error"
   ]
  },
  {
   "cell_type": "code",
   "execution_count": 111,
   "id": "a102b006-eb19-4024-9b91-5fc152bc3745",
   "metadata": {},
   "outputs": [
    {
     "data": {
      "image/png": "[encoded data removed]",
      "text/plain": [
       "<Figure size 640x480 with 1 Axes>"
      ]
     },
     "metadata": {},
     "output_type": "display_data"
    }
   ],
   "source": [
    "poly_regression(5)"
   ]
  },
  {
   "cell_type": "code",
   "execution_count": 114,
   "id": "4f0f415b-4320-4e9d-8f94-bb0774c49e02",
   "metadata": {},
   "outputs": [
    {
     "data": {
      "image/png": "[encoded data removed]",
      "text/plain": [
       "<Figure size 640x480 with 1 Axes>"
      ]
     },
     "metadata": {},
     "output_type": "display_data"
    }
   ],
   "source": [
    "poly_regression(10) # Overfitting"
   ]
  },
  {
   "cell_type": "code",
   "execution_count": 116,
   "id": "d8102636-4f65-404b-8133-6fa049647d28",
   "metadata": {},
   "outputs": [
    {
     "data": {
      "image/png": "[encoded data removed]",
      "text/plain": [
       "<Figure size 640x480 with 1 Axes>"
      ]
     },
     "metadata": {},
     "output_type": "display_data"
    }
   ],
   "source": [
    "poly_regression(7) # Overfitting"
   ]
  },
  {
   "cell_type": "code",
   "execution_count": 118,
   "id": "e427d089-499e-4a0f-9ebb-79f36a1b7e16",
   "metadata": {},
   "outputs": [
    {
     "data": {
      "image/png": "[encoded data removed]",
      "text/plain": [
       "<Figure size 640x480 with 1 Axes>"
      ]
     },
     "metadata": {},
     "output_type": "display_data"
    }
   ],
   "source": [
    "poly_regression(6)"
   ]
  }
 ],
 "metadata": {
  "kernelspec": {
   "display_name": "Python 3 (ipykernel)",
   "language": "python",
   "name": "python3"
  },
  "language_info": {
   "codemirror_mode": {
    "name": "ipython",
    "version": 3
   },
   "file_extension": ".py",
   "mimetype": "text/x-python",
   "name": "python",
   "nbconvert_exporter": "python",
   "pygments_lexer": "ipython3",
   "version": "3.12.4"
  }
 },
 "nbformat": 4,
 "nbformat_minor": 5
}
